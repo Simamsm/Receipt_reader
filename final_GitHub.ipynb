{
  "cells": [
    {
      "cell_type": "markdown",
      "metadata": {
        "id": "LFy1u_CIAlB4"
      },
      "source": [
        "## Installation"
      ]
    },
    {
      "cell_type": "code",
      "execution_count": null,
      "metadata": {
        "tags": [],
        "id": "5sYEhl2wsQN9",
        "outputId": "cad35926-e620-40a7-ce0d-cffbf6e6c08a"
      },
      "outputs": [
        {
          "name": "stdout",
          "output_type": "stream",
          "text": [
            "Requirement already satisfied: azure-ai-vision in c:\\programdata\\anaconda3\\lib\\site-packages (0.15.1b1)\n",
            "Note: you may need to restart the kernel to use updated packages.\n"
          ]
        }
      ],
      "source": [
        "pip install azure-ai-vision"
      ]
    },
    {
      "cell_type": "code",
      "execution_count": null,
      "metadata": {
        "colab": {
          "base_uri": "https://localhost:8080/"
        },
        "id": "olwVirv0AmWR",
        "outputId": "bdda26c6-754a-4719-eab2-bd4ec792cc42",
        "tags": []
      },
      "outputs": [
        {
          "name": "stdout",
          "output_type": "stream",
          "text": [
            "Requirement already satisfied: openai==0.28.1 in c:\\programdata\\anaconda3\\lib\\site-packages (0.28.1)\n",
            "Requirement already satisfied: requests>=2.20 in c:\\programdata\\anaconda3\\lib\\site-packages (from openai==0.28.1) (2.31.0)\n",
            "Requirement already satisfied: tqdm in c:\\programdata\\anaconda3\\lib\\site-packages (from openai==0.28.1) (4.65.0)\n",
            "Requirement already satisfied: aiohttp in c:\\programdata\\anaconda3\\lib\\site-packages (from openai==0.28.1) (3.8.5)\n",
            "Requirement already satisfied: charset-normalizer<4,>=2 in c:\\programdata\\anaconda3\\lib\\site-packages (from requests>=2.20->openai==0.28.1) (2.0.4)\n",
            "Requirement already satisfied: idna<4,>=2.5 in c:\\programdata\\anaconda3\\lib\\site-packages (from requests>=2.20->openai==0.28.1) (3.4)\n",
            "Requirement already satisfied: urllib3<3,>=1.21.1 in c:\\programdata\\anaconda3\\lib\\site-packages (from requests>=2.20->openai==0.28.1) (1.26.16)\n",
            "Requirement already satisfied: certifi>=2017.4.17 in c:\\programdata\\anaconda3\\lib\\site-packages (from requests>=2.20->openai==0.28.1) (2023.7.22)\n",
            "Requirement already satisfied: attrs>=17.3.0 in c:\\programdata\\anaconda3\\lib\\site-packages (from aiohttp->openai==0.28.1) (22.1.0)\n",
            "Requirement already satisfied: multidict<7.0,>=4.5 in c:\\programdata\\anaconda3\\lib\\site-packages (from aiohttp->openai==0.28.1) (6.0.2)\n",
            "Requirement already satisfied: async-timeout<5.0,>=4.0.0a3 in c:\\programdata\\anaconda3\\lib\\site-packages (from aiohttp->openai==0.28.1) (4.0.2)\n",
            "Requirement already satisfied: yarl<2.0,>=1.0 in c:\\programdata\\anaconda3\\lib\\site-packages (from aiohttp->openai==0.28.1) (1.8.1)\n",
            "Requirement already satisfied: frozenlist>=1.1.1 in c:\\programdata\\anaconda3\\lib\\site-packages (from aiohttp->openai==0.28.1) (1.3.3)\n",
            "Requirement already satisfied: aiosignal>=1.1.2 in c:\\programdata\\anaconda3\\lib\\site-packages (from aiohttp->openai==0.28.1) (1.2.0)\n",
            "Requirement already satisfied: colorama in c:\\programdata\\anaconda3\\lib\\site-packages (from tqdm->openai==0.28.1) (0.4.6)\n"
          ]
        }
      ],
      "source": [
        "!pip install openai==0.28.1"
      ]
    },
    {
      "cell_type": "code",
      "execution_count": null,
      "metadata": {
        "tags": [],
        "id": "7FGITXxNsQN-"
      },
      "outputs": [],
      "source": [
        "import matplotlib.pyplot as plt\n",
        "import matplotlib.image as mpimg\n",
        "import os\n",
        "import azure.ai.vision as cvsdk\n",
        "from PIL import Image, ImageDraw\n",
        "import numpy as np\n",
        "\n",
        "import openai\n",
        "import json\n",
        "import pandas as pd"
      ]
    },
    {
      "cell_type": "code",
      "execution_count": null,
      "metadata": {
        "tags": [],
        "id": "nyI5wpkRsQN_"
      },
      "outputs": [],
      "source": [
        "#Setting up connection to Vision Studio\n",
        "\n",
        "endpoint = 'https://visionstudioinstance.cognitiveservices.azure.com/'\n",
        "key = '<YOUR API KEY>'\n",
        "\n",
        "# Create a Vision Service\n",
        "service_options = cvsdk.VisionServiceOptions(endpoint, key)"
      ]
    },
    {
      "cell_type": "code",
      "execution_count": null,
      "metadata": {
        "tags": [],
        "id": "DHHQNlPTsQN_"
      },
      "outputs": [],
      "source": [
        "# Select an image to analyze\n",
        "img_filename = \"receipt.jpg\"\n",
        "vision_source = cvsdk.VisionSource(filename=img_filename)\n",
        "\n",
        "\n",
        "# Set image analysis options and features\n",
        "# cvsdk.ImageAnalysisFeature.TEXT will specify that we are using text extraction service\n",
        "analysis_options = cvsdk.ImageAnalysisOptions()\n",
        "analysis_options.features = (\n",
        "    cvsdk.ImageAnalysisFeature.TEXT\n",
        ")\n",
        "\n",
        "\n",
        "# Get the text extracted from image\n",
        "image_analyzer = cvsdk.ImageAnalyzer(service_options, vision_source, analysis_options)\n",
        "result = image_analyzer.analyze()\n",
        "\n",
        "# Creating an empty list to append the extracted text line by line\n",
        "extracted_lines = []\n",
        "\n",
        "# Checking if the extraction was successful\n",
        "if result.reason == cvsdk.ImageAnalysisResultReason.ANALYZED:\n",
        "    # Checking if there is any text in the result\n",
        "    if result.text is not None:\n",
        "        # Reading all lines of the text\n",
        "        for line in result.text.lines:\n",
        "            extracted_lines.append(line.content)\n",
        "        # Joining all the lines to create a large string\n",
        "        final_extracted_lines = '\\n'.join(extracted_lines)\n",
        "\n",
        "else:\n",
        "    # If there was an error, print the information\n",
        "    error_details = cvsdk.ImageAnalysisErrorDetails.from_result(result)\n",
        "    print(\"Analysis failed.\")\n",
        "    print(f\" Error reason: {error_details.reason}\")\n",
        "    print(f\" Error code: {error_details.error_code}\")\n",
        "    print(f\" Error message: {error_details.message}\")"
      ]
    },
    {
      "cell_type": "code",
      "execution_count": null,
      "metadata": {
        "tags": [],
        "id": "_Kn2DADVsQN_",
        "outputId": "7c217daf-bcb9-4a09-c660-89131fd5bafe"
      },
      "outputs": [
        {
          "data": {
            "text/plain": [
              "\"COSTCO\\nWHOLESALE\\nKanata #541\\n770 Silver Seven Rd\\nKanata, ON K2V 0A1\\n1S Member 111864865659\\n307987 CHARCOAL 8KG\\n17.99\\nH\\n1236258 BAMBOO DRAWR\\n82.99\\nH\\n4696334 RUFFLES ALL\\n5.99\\nH\\n1561688 CK BRA 2PK\\n19.99\\n1632921 DENSIFY\\n19.99\\nH\\n1669990 TPD/1632921\\n4.00- H\\n1400615 ORG BEANS\\n328795 RIVAJ NAAN\\n1.99\\n1596 MUSHROOMS\\n4.39\\n1673656 TPD/1596\\n5.49\\n38429 YOGOURT 2X1K\\n1.50-\\n1523795 ORGANIC DATE\\n5.99\\n1202649 LRG FREE RUN\\n7.99\\n1161625 SPAGHETTI 4K\\n7.89\\n1170871 SHAKE'N FEED\\n9.99\\n1670106 TPD/1170871\\n19.99\\nH\\n21928 HALAL GROUND\\n4.00- 1\\n11348 B/S THIGHS\\n29.99\\nSUBTOTAL\\n28.51\\nTAX\\n213.67\\n**** TOTAL\\n14.16\\n227.83\\nXXXXXXXXXXXX3967\\nACCT: MASTERCARD\\nREFERENCE #: 66224273-0010013480 C\\nAUTH #: 6030E\\n2022/06/03 20:02:00\\nInvoice Number: 201348\\nPurchase - CAPITAL ONE\\nA0000000041010\\n0000008000 E800\\n01 APPROVED - THANK YOU 027\\nAMOUNT: 227.83\\nIMPORTANT - retain this copy\\nfor your records\\nCUSTOMER COPY\\nMasterCard\\n227.83\\nCHANGE\\n0.00\\n(H) HST 13%\\n14.16\\nTOTAL NUMBER OF ITEMS SOLD -\\n15\\nTOTAL DISCOUNT(S )\\n$ 9.50\\n2022/06/03 20:02:02 541 201 316 201\\n22054120103162206032002\\nOP#: 201 Name: SCO OPERATOR\\nThank You !\\nPlease Come Again\\nH = HST G=GST\\nHST/GST #121476329RT\\nWhse: 541 Trm:201 Trn:316 OP:201\\nItems Sold: 15\\n1S 2022/06/03 20:02\""
            ]
          },
          "execution_count": 36,
          "metadata": {},
          "output_type": "execute_result"
        }
      ],
      "source": [
        "final_extracted_lines"
      ]
    },
    {
      "cell_type": "markdown",
      "metadata": {
        "id": "VED1Bay__uIF"
      },
      "source": [
        "## Authentication\n",
        "Find the information below from Microsoft Azure"
      ]
    },
    {
      "cell_type": "code",
      "execution_count": null,
      "metadata": {
        "id": "y8NBFIci_uIJ",
        "tags": []
      },
      "outputs": [],
      "source": [
        "# Setting up Openai connections\n",
        "\n",
        "openai.api_key = \"<your_azure_openai_key>\"\n",
        "openai.api_base = \"<your_azure_openai_base>\"\n",
        "openai.api_type = \"<your_azure_openai_type>\"\n",
        "openai.api_version = \"2023-07-01-preview\"\n",
        "chat_model_id = \"<your model id>\"\n"
      ]
    },
    {
      "cell_type": "code",
      "execution_count": null,
      "metadata": {
        "tags": [],
        "id": "l_UiTLotsQOA"
      },
      "outputs": [],
      "source": [
        "system_message = \"\"\"You are a helpful bot assistant,\n",
        "your task is read the text of reciept and make a html table.\n",
        "This table has columns named store name, date, item name, item category, price.\n",
        "Please identify what items were purchased and categorize them into one of these categories:\n",
        "1. Food items\n",
        "2. Transportation\n",
        "3. Home improvements and cunstructions.\n",
        "4. Beauty and healthcare\n",
        "write the html code for this table.\n",
        "Here is the text extracted from the receipt:\"\"\"\n",
        "query = final_extracted_lines"
      ]
    },
    {
      "cell_type": "code",
      "execution_count": null,
      "metadata": {
        "id": "W_doCLogG41z",
        "tags": []
      },
      "outputs": [],
      "source": [
        "prompt = [{'role': 'system','content': system_message},\n",
        "          {'role': 'user','content': query}]"
      ]
    },
    {
      "cell_type": "code",
      "execution_count": null,
      "metadata": {
        "id": "l82NLS0eH2Y7",
        "tags": []
      },
      "outputs": [],
      "source": [
        "response = openai.ChatCompletion.create(\n",
        "    deployment_id=chat_model_id,\n",
        "    messages=prompt,\n",
        "    temperature=0\n",
        ")"
      ]
    },
    {
      "cell_type": "code",
      "execution_count": null,
      "metadata": {
        "tags": [],
        "id": "Z_KY9gljsQOB"
      },
      "outputs": [],
      "source": [
        "from IPython.core.display import HTML"
      ]
    },
    {
      "cell_type": "code",
      "execution_count": null,
      "metadata": {
        "colab": {
          "base_uri": "https://localhost:8080/",
          "height": 106
        },
        "id": "_t83t-RTH-VV",
        "outputId": "84f09fb9-5ee2-4e53-9afc-aba93b0c976c",
        "tags": []
      },
      "outputs": [
        {
          "data": {
            "text/html": [
              "Here is the HTML code for the table:\n",
              "\n",
              "```html\n",
              "<table>\n",
              "  <thead>\n",
              "    <tr>\n",
              "      <th>Store Name</th>\n",
              "      <th>Date</th>\n",
              "      <th>Item Name</th>\n",
              "      <th>Item Category</th>\n",
              "      <th>Price</th>\n",
              "    </tr>\n",
              "  </thead>\n",
              "  <tbody>\n",
              "    <tr>\n",
              "      <td>COSTCO WHOLESALE Kanata #541</td>\n",
              "      <td>2022/06/03 20:02:00</td>\n",
              "      <td>CHARCOAL 8KG</td>\n",
              "      <td>Home improvements and constructions</td>\n",
              "      <td>17.99</td>\n",
              "    </tr>\n",
              "    <tr>\n",
              "      <td>COSTCO WHOLESALE Kanata #541</td>\n",
              "      <td>2022/06/03 20:02:00</td>\n",
              "      <td>BAMBOO DRAWR</td>\n",
              "      <td>Home improvements and constructions</td>\n",
              "      <td>82.99</td>\n",
              "    </tr>\n",
              "    <tr>\n",
              "      <td>COSTCO WHOLESALE Kanata #541</td>\n",
              "      <td>2022/06/03 20:02:00</td>\n",
              "      <td>RUFFLES ALL</td>\n",
              "      <td>Food items</td>\n",
              "      <td>5.99</td>\n",
              "    </tr>\n",
              "    <tr>\n",
              "      <td>COSTCO WHOLESALE Kanata #541</td>\n",
              "      <td>2022/06/03 20:02:00</td>\n",
              "      <td>CK BRA 2PK</td>\n",
              "      <td>Beauty and healthcare</td>\n",
              "      <td>19.99</td>\n",
              "    </tr>\n",
              "    <tr>\n",
              "      <td>COSTCO WHOLESALE Kanata #541</td>\n",
              "      <td>2022/06/03 20:02:00</td>\n",
              "      <td>DENSIFY</td>\n",
              "      <td>Home improvements and constructions</td>\n",
              "      <td>19.99</td>\n",
              "    </tr>\n",
              "    <tr>\n",
              "      <td>COSTCO WHOLESALE Kanata #541</td>\n",
              "      <td>2022/06/03 20:02:00</td>\n",
              "      <td>TPD/1632921</td>\n",
              "      <td>Home improvements and constructions</td>\n",
              "      <td>4.00-</td>\n",
              "    </tr>\n",
              "    <tr>\n",
              "      <td>COSTCO WHOLESALE Kanata #541</td>\n",
              "      <td>2022/06/03 20:02:00</td>\n",
              "      <td>ORG BEANS</td>\n",
              "      <td>Food items</td>\n",
              "      <td>1.99</td>\n",
              "    </tr>\n",
              "    <tr>\n",
              "      <td>COSTCO WHOLESALE Kanata #541</td>\n",
              "      <td>2022/06/03 20:02:00</td>\n",
              "      <td>RIVAJ NAAN</td>\n",
              "      <td>Food items</td>\n",
              "      <td>1.99</td>\n",
              "    </tr>\n",
              "    <tr>\n",
              "      <td>COSTCO WHOLESALE Kanata #541</td>\n",
              "      <td>2022/06/03 20:02:00</td>\n",
              "      <td>MUSHROOMS</td>\n",
              "      <td>Food items</td>\n",
              "      <td>4.39</td>\n",
              "    </tr>\n",
              "    <tr>\n",
              "      <td>COSTCO WHOLESALE Kanata #541</td>\n",
              "      <td>2022/06/03 20:02:00</td>\n",
              "      <td>TPD/1596</td>\n",
              "      <td>Food items</td>\n",
              "      <td>5.49</td>\n",
              "    </tr>\n",
              "    <tr>\n",
              "      <td>COSTCO WHOLESALE Kanata #541</td>\n",
              "      <td>2022/06/03 20:02:00</td>\n",
              "      <td>YOGOURT 2X1K</td>\n",
              "      <td>Food items</td>\n",
              "      <td>1.50-</td>\n",
              "    </tr>\n",
              "    <tr>\n",
              "      <td>COSTCO WHOLESALE Kanata #541</td>\n",
              "      <td>2022/06/03 20:02:00</td>\n",
              "      <td>ORGANIC DATE</td>\n",
              "      <td>Food items</td>\n",
              "      <td>5.99</td>\n",
              "    </tr>\n",
              "    <tr>\n",
              "      <td>COSTCO WHOLESALE Kanata #541</td>\n",
              "      <td>2022/06/03 20:02:00</td>\n",
              "      <td>LRG FREE RUN</td>\n",
              "      <td>Food items</td>\n",
              "      <td>7.99</td>\n",
              "    </tr>\n",
              "    <tr>\n",
              "      <td>COSTCO WHOLESALE Kanata #541</td>\n",
              "      <td>2022/06/03 20:02:00</td>\n",
              "      <td>SPAGHETTI 4K</td>\n",
              "      <td>Food items</td>\n",
              "      <td>7.89</td>\n",
              "    </tr>\n",
              "    <tr>\n",
              "      <td>COSTCO WHOLESALE Kanata #541</td>\n",
              "      <td>2022/06/03 20:02:00</td>\n",
              "      <td>SHAKE'N FEED</td>\n",
              "      <td>Home improvements and constructions</td>\n",
              "      <td>9.99</td>\n",
              "    </tr>\n",
              "    <tr>\n",
              "      <td>COSTCO WHOLESALE Kanata #541</td>\n",
              "      <td>2022/06/03 20:02:00</td>\n",
              "      <td>TPD/1170871</td>\n",
              "      <td>Home improvements and constructions</td>\n",
              "      <td>19.99</td>\n",
              "    </tr>\n",
              "    <tr>\n",
              "      <td>COSTCO WHOLESALE Kanata #541</td>\n",
              "      <td>2022/06/03 20:02:00</td>\n",
              "      <td>HALAL GROUND</td>\n",
              "      <td>Food items</td>\n",
              "      <td>4.00-</td>\n",
              "    </tr>\n",
              "    <tr>\n",
              "      <td>COSTCO WHOLESALE Kanata #541</td>\n",
              "      <td>2022/06/03 20:02:00</td>\n",
              "      <td>B/S THIGHS</td>\n",
              "      <td>Food items</td>\n",
              "      <td>29.99</td>\n",
              "    </tr>\n",
              "  </tbody>\n",
              "  <tfoot>\n",
              "    <tr>\n",
              "      <td colspan=\"4\">Subtotal</td>\n",
              "      <td>28.51</td>\n",
              "    </tr>\n",
              "    <tr>\n",
              "      <td colspan=\"4\">Tax</td>\n",
              "      <td>213.67</td>\n",
              "    </tr>\n",
              "    <tr>\n",
              "      <td colspan=\"4\">Total</td>\n",
              "      <td>227.83</td>\n",
              "    </tr>\n",
              "  </tfoot>\n",
              "</table>\n",
              "```\n",
              "\n",
              "Note: The categories for each item were determined based on the information provided in the text of the receipt. It is possible that some items could be categorized differently depending on context."
            ],
            "text/plain": [
              "<IPython.core.display.HTML object>"
            ]
          },
          "execution_count": 47,
          "metadata": {},
          "output_type": "execute_result"
        }
      ],
      "source": [
        "HTML(response['choices'][0]['message']['content'])"
      ]
    }
  ],
  "metadata": {
    "accelerator": "GPU",
    "colab": {
      "gpuType": "T4",
      "provenance": []
    },
    "kernelspec": {
      "display_name": "Python 3 (ipykernel)",
      "language": "python",
      "name": "python3"
    },
    "language_info": {
      "codemirror_mode": {
        "name": "ipython",
        "version": 3
      },
      "file_extension": ".py",
      "mimetype": "text/x-python",
      "name": "python",
      "nbconvert_exporter": "python",
      "pygments_lexer": "ipython3",
      "version": "3.11.5"
    }
  },
  "nbformat": 4,
  "nbformat_minor": 0
}
